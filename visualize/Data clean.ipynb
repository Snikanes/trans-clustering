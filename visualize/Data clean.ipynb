{
 "cells": [
  {
   "cell_type": "code",
   "execution_count": 2,
   "metadata": {},
   "outputs": [],
   "source": [
    "import numpy as np\n",
    "import pandas as pd\n",
    "import networkx as nx"
   ]
  },
  {
   "cell_type": "code",
   "execution_count": 9,
   "metadata": {},
   "outputs": [],
   "source": [
    "btc_edges = pd.read_csv('../graph/bitcoin.edgelist', sep=' ', header=None, names=[\"source\", \"dest\"])\n",
    "telenor_edges = pd.read_csv('p2p_may.txt', sep='\\t', header=0, names=[\"trxid\", \"source\", \"dest\", \"amount\", \"timestamp\"])\n",
    "\n",
    "edges = telenor_edges\n",
    "\n",
    "G = nx.from_pandas_edgelist(edges, \"source\", \"dest\")\n",
    "sources, dests = [], []\n",
    "for edge in G.to_undirected().edges():\n",
    "    sources.append(edge[0])\n",
    "    dests.append(edge[1])\n",
    "    \n",
    "undirected = pd.DataFrame({'from': sources, 'to': dests})\n",
    "undirected.to_csv('../graph/telenor-undirected.edgelist', sep=' ', index=False, header=False)"
   ]
  },
  {
   "cell_type": "code",
   "execution_count": null,
   "metadata": {},
   "outputs": [],
   "source": []
  }
 ],
 "metadata": {
  "kernelspec": {
   "display_name": "Python 3",
   "language": "python",
   "name": "python3"
  },
  "language_info": {
   "codemirror_mode": {
    "name": "ipython",
    "version": 3
   },
   "file_extension": ".py",
   "mimetype": "text/x-python",
   "name": "python",
   "nbconvert_exporter": "python",
   "pygments_lexer": "ipython3",
   "version": "3.6.5"
  }
 },
 "nbformat": 4,
 "nbformat_minor": 2
}

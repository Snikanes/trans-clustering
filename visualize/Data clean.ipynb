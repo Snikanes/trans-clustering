{
 "cells": [
  {
   "cell_type": "code",
   "execution_count": 12,
   "metadata": {},
   "outputs": [],
   "source": [
    "import numpy as np\n",
    "import pandas as pd\n",
    "import networkx as nx"
   ]
  },
  {
   "cell_type": "code",
   "execution_count": 31,
   "metadata": {},
   "outputs": [],
   "source": [
    "#btc_edges = pd.read_csv('../graph/bitcoin.edgelist', sep=' ', header=None, names=[\"source\", \"dest\"])\n",
    "telenor_edges = pd.read_csv('p2p_may_short.txt', sep='\\t', names=[\"trxid\", \"source\", \"dest\", \"amount\", \"timestamp\"])\n",
    "telenor_edges2 = pd.read_csv('p2p_may_short2.txt', sep='\\t', names=[\"trxid\", \"source\", \"dest\", \"amount\", \"timestamp\"])\n",
    "telenor_edges3 = pd.read_csv('p2p_may_short3.txt', sep='\\t', names=[\"trxid\", \"source\", \"dest\", \"amount\", \"timestamp\"])\n",
    "\n",
    "edges = telenor_edges\n",
    "\n",
    "G = nx.from_pandas_edgelist(edges, \"source\", \"dest\")\n",
    "sources, dests = [], []\n",
    "for edge in G.to_undirected().edges():\n",
    "    sources.append(edge[0])\n",
    "    dests.append(edge[1])\n",
    "    \n",
    "undirected = pd.DataFrame({'from': sources, 'to': dests})\n",
    "undirected.to_csv('../struc2vec/graph/telenor-undirected.edgelist', sep=' ', index=False, header=False)"
   ]
  },
  {
   "cell_type": "code",
   "execution_count": 32,
   "metadata": {},
   "outputs": [
    {
     "data": {
      "text/plain": [
       "73130"
      ]
     },
     "execution_count": 32,
     "metadata": {},
     "output_type": "execute_result"
    }
   ],
   "source": [
    "len(set(undirected['from'].unique()).union(set(undirected['to'].unique())))"
   ]
  },
  {
   "cell_type": "code",
   "execution_count": null,
   "metadata": {},
   "outputs": [],
   "source": []
  }
 ],
 "metadata": {
  "kernelspec": {
   "display_name": "Python 3",
   "language": "python",
   "name": "python3"
  },
  "language_info": {
   "codemirror_mode": {
    "name": "ipython",
    "version": 3
   },
   "file_extension": ".py",
   "mimetype": "text/x-python",
   "name": "python",
   "nbconvert_exporter": "python",
   "pygments_lexer": "ipython3",
   "version": "3.6.5"
  }
 },
 "nbformat": 4,
 "nbformat_minor": 2
}

{
 "cells": [
  {
   "cell_type": "code",
   "execution_count": 17,
   "metadata": {},
   "outputs": [],
   "source": [
    "import pandas as pd\n",
    "import seaborn as sns\n",
    "from sklearn.manifold import TSNE"
   ]
  },
  {
   "cell_type": "code",
   "execution_count": 26,
   "metadata": {},
   "outputs": [],
   "source": [
    "# Load BTC embeddings\n",
    "#s2v_10_btc = pd.read_csv('../struc2vec/emb/bitcoin-10dims.emb', skiprows=[0], index_col=0, header=None, sep=' ')\n",
    "#s2v_25_btc = pd.read_csv('../struc2vec/emb/bitcoin-25dims.emb', skiprows=[0], index_col=0, header=None, sep=' ')\n",
    "#s2v_50_btc = pd.read_csv('../struc2vec/emb/bitcoin-50dims.emb', skiprows=[0], index_col=0, header=None, sep=' ')\n",
    "#s2v_100_btc = pd.read_csv('../struc2vec/emb/bitcoin-100dims.emb', skiprows=[0], index_col=0, header=None, sep=' ')\n",
    "#s2v_200_btc = pd.read_csv('../struc2vec/emb/bitcoin-200dims.emb', skiprows=[0], index_col=0, header=None, sep=' ')\n",
    "#\n",
    "#s2v_50_telenor = pd.read_csv('../struc2vec/emb/telenor-50dims.emb', skiprows=[0], index_col=0, header=None, sep=' ')\n",
    "#s2v_100_telenor = pd.read_csv('../struc2vec/emb/telenor-100dims.emb', skiprows=[0], index_col=0, header=None, sep=' ')\n",
    "#s2v_200_telenor = pd.read_csv('../struc2vec/emb/telenor-200dims.emb', skiprows=[0], index_col=0, header=None, sep=' ')\n",
    "#s2v_300_telenor = pd.read_csv('../struc2vec/emb/telenor-300dims.emb', skiprows=[0], index_col=0, header=None, sep=' ')\n",
    "\n",
    "# Load telenor embeddings\n",
    "n2v_50_btc = pd.read_csv('../node2vec/emb/n2v_50dim_btc.emb', skiprows=[0], index_col=0, header=None, sep=' ')\n",
    "n2v_100_btc = pd.read_csv('../node2vec/emb/n2v_100dim_btc.emb', skiprows=[0], index_col=0, header=None, sep=' ')\n",
    "#n2v_200_btc = pd.read_csv('../node2vec/emb/n2v_200dim_btc.emb', skiprows=[0], index_col=0, header=None, sep=' ')\n",
    "#n2v_300_btc = pd.read_csv('../node2vec/emb/n2v_300dim_btc.emb', skiprows=[0], index_col=0, header=None, sep=' ')\n",
    "\n",
    "n2v_50_telenor= pd.read_csv('../node2vec/emb/n2v_50dim_telenor.emb', skiprows=[0], index_col=0, header=None, sep=' ')\n",
    "#n2v_100_telenor = pd.read_csv('../node2vec/emb/n2v_100dim_telenor.emb', skiprows=[0], index_col=0, header=None, sep=' ')\n",
    "#n2v_200_telenor = pd.read_csv('../node2vec/emb/n2v_200dim_telenor.emb', skiprows=[0], index_col=0, header=None, sep=' ')\n",
    "#n2v_300_telenor = pd.read_csv('../node2vec/emb/n2v_300dim_telenor.emb', skiprows=[0], index_col=0, header=None, sep=' ')\n",
    "\n",
    "#cc_gamma_test = pd.read_csv('../struc2vec/emb/cc_gamma_test.emb', skiprows=[0], index_col=0, header=None, sep=' ')"
   ]
  },
  {
   "cell_type": "code",
   "execution_count": 27,
   "metadata": {},
   "outputs": [],
   "source": [
    "def tsne(emb, filename):\n",
    "    tsne = TSNE(n_components=2, perplexity=30.0)\n",
    "    Y = tsne.fit_transform(emb)\n",
    "    node_ids = pd.Series(emb.index.values)\n",
    "    y_df = pd.DataFrame(pd.concat([node_ids, pd.DataFrame(Y)], axis=1))\n",
    "    y_df.to_csv('emb/2d/{}.csv'.format(filename), sep=',', index=False, header=False)\n",
    "    \n",
    "def tsne_3d(emb, filename):\n",
    "    tsne = TSNE(n_components=3, perplexity=30.0)\n",
    "    Y = tsne.fit_transform(emb)\n",
    "    node_ids = pd.Series(emb.index.values)\n",
    "    y_df = pd.DataFrame(pd.concat([node_ids, pd.DataFrame(Y)], axis=1))\n",
    "    y_df.to_csv('emb/3d/{}.csv'.format(filename), sep=',', index=False, header=False)"
   ]
  },
  {
   "cell_type": "code",
   "execution_count": 28,
   "metadata": {},
   "outputs": [],
   "source": [
    "tsne(n2v_100_btc, 'n2v_100_btc')"
   ]
  },
  {
   "cell_type": "code",
   "execution_count": null,
   "metadata": {},
   "outputs": [],
   "source": []
  }
 ],
 "metadata": {
  "kernelspec": {
   "display_name": "Python 3",
   "language": "python",
   "name": "python3"
  },
  "language_info": {
   "codemirror_mode": {
    "name": "ipython",
    "version": 3
   },
   "file_extension": ".py",
   "mimetype": "text/x-python",
   "name": "python",
   "nbconvert_exporter": "python",
   "pygments_lexer": "ipython3",
   "version": "3.6.5"
  }
 },
 "nbformat": 4,
 "nbformat_minor": 2
}

{
 "cells": [
  {
   "cell_type": "code",
   "execution_count": 1,
   "metadata": {},
   "outputs": [],
   "source": [
    "import pandas as pd\n",
    "import seaborn as sns\n",
    "from sklearn.preprocessing import MinMaxScaler\n",
    "from sklearn.manifold import TSNE"
   ]
  },
  {
   "cell_type": "code",
   "execution_count": 2,
   "metadata": {},
   "outputs": [],
   "source": [
    "node_embeddings = pd.read_csv('../struc2vec/emb/bitcoin-300dims.emb', skiprows=[0], index_col=0, header=None, sep=' ')\n",
    "sdne_embeddings_50 = pd.read_csv('alpha2-l2_param0.001-epochs5-pre_epochs0.csv', skiprows=[0], header=None, index_col=0)"
   ]
  },
  {
   "cell_type": "code",
   "execution_count": 3,
   "metadata": {},
   "outputs": [
    {
     "name": "stdout",
     "output_type": "stream",
     "text": [
      "<class 'pandas.core.frame.DataFrame'>\n",
      "Int64Index: 5881 entries, 65 to 5788\n",
      "Columns: 300 entries, 1 to 300\n",
      "dtypes: float64(300)\n",
      "memory usage: 13.5 MB\n"
     ]
    }
   ],
   "source": [
    "node_embeddings.info()"
   ]
  },
  {
   "cell_type": "code",
   "execution_count": 4,
   "metadata": {},
   "outputs": [],
   "source": [
    "scaler = MinMaxScaler(feature_range=(-1, 1))\n",
    "normalized = scaler.fit_transform(sdne_embeddings_50)\n",
    "\n",
    "tsne = TSNE(n_components=2, perplexity=30.0)\n",
    "Y = tsne.fit_transform(sdne_embeddings_50)"
   ]
  },
  {
   "cell_type": "code",
   "execution_count": 5,
   "metadata": {},
   "outputs": [],
   "source": [
    "node_ids = pd.Series(node_embeddings.index.values)\n",
    "y_df = pd.DataFrame(pd.concat([node_ids, pd.DataFrame(Y)], axis=1))"
   ]
  },
  {
   "cell_type": "code",
   "execution_count": 6,
   "metadata": {},
   "outputs": [],
   "source": [
    "y_df.to_csv('sdne_50dim.csv', sep=',', index=False, header=False)"
   ]
  },
  {
   "cell_type": "code",
   "execution_count": null,
   "metadata": {},
   "outputs": [],
   "source": []
  }
 ],
 "metadata": {
  "kernelspec": {
   "display_name": "Python 3",
   "language": "python",
   "name": "python3"
  },
  "language_info": {
   "codemirror_mode": {
    "name": "ipython",
    "version": 3
   },
   "file_extension": ".py",
   "mimetype": "text/x-python",
   "name": "python",
   "nbconvert_exporter": "python",
   "pygments_lexer": "ipython3",
   "version": "3.6.5"
  }
 },
 "nbformat": 4,
 "nbformat_minor": 2
}

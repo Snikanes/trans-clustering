{
 "cells": [
  {
   "cell_type": "code",
   "execution_count": 107,
   "metadata": {},
   "outputs": [],
   "source": [
    "import pandas as pd\n",
    "import numpy as np\n",
    "import networkx as nx\n",
    "\n",
    "import utils"
   ]
  },
  {
   "cell_type": "code",
   "execution_count": 108,
   "metadata": {},
   "outputs": [],
   "source": [
    "actual = (12, 17)\n",
    "def generate_date_range(start, end):\n",
    "    return ['{}-May-16'.format(i) for i in range(start, end+1)]\n",
    "\n",
    "input_file = pd.read_csv('p2p_may.txt', header=0, sep='\\t', names=['Trxid', 'A', 'B', 'amount', 'timestamp'])\n",
    "#input_file = input_file[input_file['timestamp'].apply(lambda ts: ts in generate_date_range(12, 17))]"
   ]
  },
  {
   "cell_type": "code",
   "execution_count": 109,
   "metadata": {},
   "outputs": [
    {
     "data": {
      "text/plain": [
       "494018"
      ]
     },
     "metadata": {},
     "output_type": "display_data"
    },
    {
     "data": {
      "text/plain": [
       "(703528, 5)"
      ]
     },
     "execution_count": 109,
     "metadata": {},
     "output_type": "execute_result"
    }
   ],
   "source": [
    "#input_file.to_csv('p2p_may_actual.txt', index=False)\n",
    "display(len(set(input_file['A'].values).union(input_file['B'].values)))\n",
    "input_file.shape"
   ]
  },
  {
   "cell_type": "code",
   "execution_count": 110,
   "metadata": {},
   "outputs": [],
   "source": [
    "#Fixes directionality and discards duplicate edges\n",
    "G = nx.from_pandas_edgelist(input_file, 'A', 'B', edge_attr=True, create_using=nx.DiGraph())\n",
    "G = G.to_undirected()"
   ]
  },
  {
   "cell_type": "code",
   "execution_count": 111,
   "metadata": {},
   "outputs": [
    {
     "name": "stdout",
     "output_type": "stream",
     "text": [
      "540196\n",
      "494018\n"
     ]
    }
   ],
   "source": [
    "print(G.number_of_edges())\n",
    "print(G.number_of_nodes())\n",
    "components = nx.connected_component_subgraphs(G)"
   ]
  },
  {
   "cell_type": "code",
   "execution_count": 112,
   "metadata": {},
   "outputs": [],
   "source": [
    "max_G = None\n",
    "max_edges = 0\n",
    "max_nodes = 0\n",
    "for i, component in enumerate(components):\n",
    "    current_edges = len(list(component.edges()))\n",
    "    current_nodes = len(list(component.nodes()))\n",
    "    #print(\"Graph {} has {} edges and {} nodes\".format(i, current_edges, current_nodes))\n",
    "    if current_edges > max_edges or current_nodes > max_nodes:\n",
    "        max_G = component\n",
    "        max_edges = current_edges\n",
    "        max_nodes = current_nodes\n",
    "    #print(\"Graph {} has {} edges and {} nodes\".format(i, current_edges, current_nodes))\n",
    "\n",
    "\n",
    "#print(\"Graph {} has {} edges and {} nodes\".format(i, max_edges, max_nodes))"
   ]
  },
  {
   "cell_type": "code",
   "execution_count": 113,
   "metadata": {},
   "outputs": [
    {
     "name": "stdout",
     "output_type": "stream",
     "text": [
      "Graph 0 has 463856 edges and 373844 nodes\n"
     ]
    }
   ],
   "source": [
    "max_components = nx.connected_component_subgraphs(max_G)\n",
    "for i, component in enumerate(max_components):\n",
    "    current_edges = len(list(component.edges()))\n",
    "    current_nodes = len(list(component.nodes()))\n",
    "    print(\"Graph {} has {} edges and {} nodes\".format(i, current_edges, current_nodes))"
   ]
  },
  {
   "cell_type": "code",
   "execution_count": 114,
   "metadata": {},
   "outputs": [],
   "source": [
    "#edgelist = nx.to_edgelist(max_G)\n",
    "edgelist = pd.DataFrame({'A': [edge[0] for edge in max_G.edges()], 'B': [edge[1] for edge in max_G.edges()]})"
   ]
  },
  {
   "cell_type": "code",
   "execution_count": 115,
   "metadata": {},
   "outputs": [],
   "source": [
    "edgelist.to_csv('../struc2vec/graph/telenor-undirected-all.edgelist', header=False, index=False, sep=' ')"
   ]
  },
  {
   "cell_type": "code",
   "execution_count": null,
   "metadata": {},
   "outputs": [],
   "source": []
  }
 ],
 "metadata": {
  "kernelspec": {
   "display_name": "Python 3",
   "language": "python",
   "name": "python3"
  },
  "language_info": {
   "codemirror_mode": {
    "name": "ipython",
    "version": 3
   },
   "file_extension": ".py",
   "mimetype": "text/x-python",
   "name": "python",
   "nbconvert_exporter": "python",
   "pygments_lexer": "ipython3",
   "version": "3.6.5"
  }
 },
 "nbformat": 4,
 "nbformat_minor": 2
}
